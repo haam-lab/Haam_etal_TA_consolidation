{
 "cells": [
  {
   "cell_type": "code",
   "execution_count": null,
   "id": "faa3b2e8",
   "metadata": {},
   "outputs": [],
   "source": [
    "%load_ext autoreload\n",
    "%autoreload 2\n",
    "\n",
    "%matplotlib qt"
   ]
  },
  {
   "cell_type": "markdown",
   "id": "ecfab16b",
   "metadata": {},
   "source": [
    "# Extracting data from mesmerize batches\n",
    "Reading data from mesmerize batches to Jupyter to work directly in Python. "
   ]
  },
  {
   "cell_type": "code",
   "execution_count": null,
   "id": "7d690115",
   "metadata": {},
   "outputs": [],
   "source": [
    "import matplotlib.pyplot as plt\n",
    "import numpy as np\n",
    "import os.path\n",
    "import pandas as pd\n",
    "import joblib\n",
    "import ipywidgets as widgets\n",
    "\n",
    "import caiman as cm\n",
    "from caiman.source_extraction.cnmf.cnmf import load_CNMF"
   ]
  },
  {
   "cell_type": "markdown",
   "id": "47d404ba",
   "metadata": {},
   "source": [
    "<a id=\"batch\"></a>\n",
    "# 1. Extract batch metadata\n",
    "Each batch directory has a pickle file called `dataframe.batch` that contains all the metadata you will need about each batch that was run: the module (e.g., `CNMFE`), input parameters, the unique identifier for that batch (`uuid`), the `name` used for that batch. You can read this data using `pd.read_pickle()`:\n",
    "\n",
    "**NOTE** for your `batch_dir` variable below you need to:\n",
    "\n",
    "- copy/past in the path to your batch directory in your project folder.\n",
    "- change the slashes to forward slashes."
   ]
  },
  {
   "cell_type": "code",
   "execution_count": null,
   "id": "d706f7f9",
   "metadata": {},
   "outputs": [],
   "source": [
    "batch_dir = # paste your full directory path here to batch, as a string\n",
    "print(batch_dir)"
   ]
  },
  {
   "cell_type": "code",
   "execution_count": null,
   "id": "4ff5dc47",
   "metadata": {},
   "outputs": [],
   "source": [
    "batch_path = batch_dir + \"dataframe.batch\"\n",
    "batch_df = pd.read_pickle(batch_path) \n",
    "batch_df.head()"
   ]
  },
  {
   "cell_type": "markdown",
   "id": "c3e798e7",
   "metadata": {},
   "source": [
    "To see what caiman modules you used:"
   ]
  },
  {
   "cell_type": "code",
   "execution_count": null,
   "id": "a6fa6681",
   "metadata": {},
   "outputs": [],
   "source": [
    "for module in batch_df.module.unique():\n",
    "    print(module)"
   ]
  },
  {
   "cell_type": "markdown",
   "id": "5571fc41",
   "metadata": {},
   "source": [
    "To see which names your batch jobs have:"
   ]
  },
  {
   "cell_type": "code",
   "execution_count": null,
   "id": "0ad17ce4",
   "metadata": {},
   "outputs": [],
   "source": [
    "for ind, batch_name in enumerate(batch_df.name.unique()):\n",
    "    print(f\"batch {ind}: {batch_name}\")"
   ]
  },
  {
   "cell_type": "markdown",
   "id": "30127560",
   "metadata": {},
   "source": [
    "<a id=\"cnmfe\"></a>\n",
    "# 2. Extract CNMFE results\n",
    "For each cnmfe run, the main files you will likely be interested in include:\n",
    "\n",
    "- `uuid_results.hdf5`: the results of the analysis that let you reconstruct the estimates object\n",
    "- `uuid_input.tiff`: input movie (motion corrected movie)\n",
    "- `uuid_cn_filter.pikl`: correlation image (used for finding cnmfe params, but often useful in plotting)\n",
    "\n",
    "Here we'll just walk through loading the movie, results, and correlation image."
   ]
  },
  {
   "cell_type": "markdown",
   "id": "a86177ef",
   "metadata": {},
   "source": [
    "**Dropdown tester (next three cells)**"
   ]
  },
  {
   "cell_type": "code",
   "execution_count": null,
   "id": "73c8e870",
   "metadata": {},
   "outputs": [],
   "source": [
    "batch_options = batch_df.name.unique()\n",
    "batch_dropdown = widgets.Dropdown(\n",
    "    options=batch_options,\n",
    "    description='batch1: ',\n",
    "    value=batch_options[0],\n",
    "    disabled=False,)\n",
    "display(batch_dropdown)"
   ]
  },
  {
   "cell_type": "code",
   "execution_count": null,
   "id": "7181a567",
   "metadata": {},
   "outputs": [],
   "source": [
    "cnm_ind = batch_dropdown.index  # index among the cnmfe batches\n",
    "cnm_batch = batch_df.iloc[cnm_ind]\n",
    "cnm_uuid = cnm_batch.uuid\n",
    "cnm_uuid_string = str(cnm_uuid)\n",
    "print(f\"Let's look at batch {batch_dropdown.index}: {batch_dropdown.value}\")\n",
    "print(f\"Unique id: {cnm_uuid_string}\")"
   ]
  },
  {
   "cell_type": "markdown",
   "id": "5ad59614",
   "metadata": {},
   "source": [
    "### File check\n",
    "Check that the files mentioned above actually exist. If you pick a batch where you did motion correction, or just the correlation/pnr map, for instance, the `hdf5` file will not exist."
   ]
  },
  {
   "cell_type": "code",
   "execution_count": null,
   "id": "c3a584d6",
   "metadata": {},
   "outputs": [],
   "source": [
    "cnm_results_filepath = batch_dir + cnm_uuid_string + '_results.hdf5'\n",
    "cn_filepath = batch_dir + cnm_uuid_string + '_cn_filter.pikl'\n",
    "cnm_movie_filepath = batch_dir + cnm_uuid_string + '_input.tiff'\n",
    "\n",
    "# cnmfe results\n",
    "if os.path.isfile(cnm_results_filepath):\n",
    "    print(f\"{cnm_results_filepath} exists\")\n",
    "else:\n",
    "    print(\"No cnmfe results file: did you select a cnmfe batch?\")\n",
    "\n",
    "# correlation image array\n",
    "if os.path.isfile(cn_filepath):\n",
    "    print(f\"{cn_filepath} exists\")\n",
    "else:\n",
    "    print(\"No cn file\")\n",
    "    \n",
    "# motion corrected movie array\n",
    "if os.path.isfile(cnm_movie_filepath):\n",
    "    print(f\"{cnm_movie_filepath} exists\")\n",
    "else:\n",
    "    print(\"No movie file\")"
   ]
  },
  {
   "cell_type": "markdown",
   "id": "1ea60c84",
   "metadata": {},
   "source": [
    "## Reconstruct CNMF object\n",
    "The hdf5 object that Mesmerize saves in the batch folder is the exact one that caiman uses for reconstructing the cmn object.  "
   ]
  },
  {
   "cell_type": "code",
   "execution_count": null,
   "id": "eebab56d",
   "metadata": {},
   "outputs": [],
   "source": [
    "#start a cluster for parallel processing \n",
    "num_cpus = 2\n",
    "# note if a cluster already exists it will be closed so a new session will be opened\n",
    "if 'dview' in locals():  # locals contains list of current local variables\n",
    "    cm.stop_server(dview=dview)\n",
    "c, dview, n_processes = cm.cluster.setup_cluster(backend='local', \n",
    "                                                 n_processes=num_cpus, \n",
    "                                                 single_thread=False,\n",
    "                                                 ignore_preexisting=True)\n",
    "#Number of nodes in cluster (keep this as separate cell you like to check on it sometimes)\n",
    "print(f\"Cluster has {n_processes} processes in the pool {type(dview)}\");"
   ]
  },
  {
   "cell_type": "markdown",
   "id": "b19ce976",
   "metadata": {},
   "source": [
    "Build the CNMF object from the hdf5 file:"
   ]
  },
  {
   "cell_type": "code",
   "execution_count": null,
   "id": "338b30b2",
   "metadata": {},
   "outputs": [],
   "source": [
    "cnm = load_CNMF(cnm_results_filepath, n_processes, dview=dview)\n",
    "cnm.estimates.dims = cnm.dims"
   ]
  },
  {
   "cell_type": "markdown",
   "id": "b0bac4f4",
   "metadata": {},
   "source": [
    "Now you have the full `CNMF` object that you would get if you had run things in caiman. You can access the various traces/components [as discussed in the documentation](https://caiman.readthedocs.io/en/master/Getting_Started.html#result-interpretation). There is also a [list of useful methods](https://caiman.readthedocs.io/en/master/core_functions.html#estimates). "
   ]
  },
  {
   "cell_type": "code",
   "execution_count": null,
   "id": "3d1435ef",
   "metadata": {},
   "outputs": [],
   "source": [
    "# get correlation image\n",
    "with open(cn_filepath, 'rb') as f:\n",
    "    corr_img = joblib.load(f)   "
   ]
  },
  {
   "cell_type": "code",
   "execution_count": null,
   "id": "3d86458b",
   "metadata": {},
   "outputs": [],
   "source": [
    "cnm.estimates.nb_view_components(img =  corr_img,\n",
    "                                 cmap = 'gray',\n",
    "                                 idx = cnm.estimates.idx_components,\n",
    "                                 denoised_color = 'red',\n",
    "                                 thr = 0.99);"
   ]
  },
  {
   "cell_type": "markdown",
   "id": "65a42c30",
   "metadata": {},
   "source": [
    "Those are just a couple of examples. "
   ]
  },
  {
   "cell_type": "markdown",
   "id": "06d7acde",
   "metadata": {},
   "source": [
    "## Post-processing and exporting\n",
    "So let's say we are happy with our components and their fluorescence traces. What then? Can we export them as CSV? What about these weird unitless fluorescence bulk traces? Can we convert them to something more useful? \n",
    "\n",
    "In caiman they are stored in `cnm.estimates.C`:"
   ]
  },
  {
   "cell_type": "code",
   "execution_count": null,
   "id": "85cd3ee8",
   "metadata": {},
   "outputs": [],
   "source": [
    "cnm.estimates.C.shape"
   ]
  },
  {
   "cell_type": "code",
   "execution_count": null,
   "id": "aa45b5f9",
   "metadata": {},
   "outputs": [],
   "source": [
    "pd.DataFrame(Cz.T).to_csv(\"fluor_data.csv\", index=None)"
   ]
  },
  {
   "cell_type": "markdown",
   "id": "fd3001dd",
   "metadata": {},
   "source": [
    "Now ou have the data (one component per column) in a csv file that can be opened in Excel or another program (Matlab), or easily re-opened in Python with Pandas or Numpy! \n",
    "\n",
    "Obviously, you need to know the frame rate to get the time stamps. "
   ]
  },
  {
   "cell_type": "code",
   "execution_count": null,
   "id": "437cca2f",
   "metadata": {},
   "outputs": [],
   "source": []
  }
 ],
 "metadata": {
  "kernelspec": {
   "display_name": "Python 3",
   "language": "python",
   "name": "python3"
  },
  "language_info": {
   "codemirror_mode": {
    "name": "ipython",
    "version": 3
   },
   "file_extension": ".py",
   "mimetype": "text/x-python",
   "name": "python",
   "nbconvert_exporter": "python",
   "pygments_lexer": "ipython3",
   "version": "3.6.13"
  }
 },
 "nbformat": 4,
 "nbformat_minor": 5
}
